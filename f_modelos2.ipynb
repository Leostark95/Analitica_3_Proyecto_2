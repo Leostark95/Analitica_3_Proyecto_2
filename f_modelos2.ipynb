{
 "cells": [
  {
   "cell_type": "markdown",
   "metadata": {},
   "source": [
    "## Librerías"
   ]
  },
  {
   "cell_type": "code",
   "execution_count": 19,
   "metadata": {},
   "outputs": [],
   "source": [
    "# Librerías de ciencia de datos \n",
    "import numpy as np\n",
    "import pandas as pd\n",
    "import sqlite3 as sql\n",
    "\n",
    "# para análisis interactivo\n",
    "from ipywidgets import interact, Output\n",
    "\n",
    "# Librerías para preprocesamiento \n",
    "from sklearn.preprocessing import MinMaxScaler\n",
    "\n",
    "# Librerías para análisis interactivo \n",
    "from ipywidgets import interact \n",
    "from sklearn import neighbors \n",
    "import joblib\n",
    "\n",
    "# Paquete para sistemas de recomendación surprise \n",
    "from surprise import Reader, Dataset\n",
    "from surprise.model_selection import cross_validate, GridSearchCV\n",
    "from surprise import KNNBasic, KNNWithMeans, KNNWithZScore, KNNBaseline\n",
    "from surprise.model_selection import train_test_split"
   ]
  },
  {
   "cell_type": "markdown",
   "metadata": {},
   "source": [
    "## Carga de datos"
   ]
  },
  {
   "cell_type": "code",
   "execution_count": 2,
   "metadata": {},
   "outputs": [],
   "source": [
    "#### Conectar #######\n",
    "conn=sql.connect('data/db_movies')\n",
    "cur=conn.cursor()"
   ]
  },
  {
   "cell_type": "code",
   "execution_count": 3,
   "metadata": {},
   "outputs": [
    {
     "data": {
      "text/plain": [
       "[('ratings',),\n",
       " ('movies',),\n",
       " ('usuarios_sel',),\n",
       " ('movies_sel',),\n",
       " ('ratings_final',),\n",
       " ('movie_final',),\n",
       " ('full_ratings',),\n",
       " ('reco',)]"
      ]
     },
     "execution_count": 3,
     "metadata": {},
     "output_type": "execute_result"
    }
   ],
   "source": [
    "#ver tablas\n",
    "cur.execute(\"SELECT name FROM sqlite_master WHERE type='table';\")\n",
    "cur.fetchall()"
   ]
  },
  {
   "cell_type": "markdown",
   "metadata": {},
   "source": [
    "## 3 Sistema de recomendación basado en contenido KNN Con base en todo lo visto por el usuario"
   ]
  },
  {
   "cell_type": "markdown",
   "metadata": {},
   "source": [
    "### Top 10 de las películas más similares a las vistas por el usuario y con una que le haya dado una calificación mayor a 3.5."
   ]
  },
  {
   "cell_type": "code",
   "execution_count": 4,
   "metadata": {},
   "outputs": [],
   "source": [
    "# Vamos a trabajar con el dataframe escalado y con dummies df_dum \n",
    "df_dum = pd.read_csv('data/df_dum.csv')\n",
    "movies = pd.read_sql(\"SELECT * FROM movie_final\", conn)\n",
    "\n",
    "# Se selecciona un usuario para realizar las recomendaciones \n",
    "usuarios = pd.read_sql('SELECT distinct (userId) as user_id from ratings_final', conn)\n",
    "\n",
    "# Seleccionamos un usuario para realizar el sistema de recomendación\n",
    "user_id = 605\n",
    "movies\n",
    "ratings = pd.read_sql('SELECT * FROM ratings_final', conn)"
   ]
  },
  {
   "cell_type": "code",
   "execution_count": 5,
   "metadata": {},
   "outputs": [
    {
     "data": {
      "text/html": [
       "<div>\n",
       "<style scoped>\n",
       "    .dataframe tbody tr th:only-of-type {\n",
       "        vertical-align: middle;\n",
       "    }\n",
       "\n",
       "    .dataframe tbody tr th {\n",
       "        vertical-align: top;\n",
       "    }\n",
       "\n",
       "    .dataframe thead th {\n",
       "        text-align: right;\n",
       "    }\n",
       "</style>\n",
       "<table border=\"1\" class=\"dataframe\">\n",
       "  <thead>\n",
       "    <tr style=\"text-align: right;\">\n",
       "      <th></th>\n",
       "      <th>user_id</th>\n",
       "    </tr>\n",
       "  </thead>\n",
       "  <tbody>\n",
       "    <tr>\n",
       "      <th>0</th>\n",
       "      <td>1</td>\n",
       "    </tr>\n",
       "    <tr>\n",
       "      <th>1</th>\n",
       "      <td>4</td>\n",
       "    </tr>\n",
       "    <tr>\n",
       "      <th>2</th>\n",
       "      <td>6</td>\n",
       "    </tr>\n",
       "    <tr>\n",
       "      <th>3</th>\n",
       "      <td>7</td>\n",
       "    </tr>\n",
       "    <tr>\n",
       "      <th>4</th>\n",
       "      <td>10</td>\n",
       "    </tr>\n",
       "    <tr>\n",
       "      <th>...</th>\n",
       "      <td>...</td>\n",
       "    </tr>\n",
       "    <tr>\n",
       "      <th>369</th>\n",
       "      <td>605</td>\n",
       "    </tr>\n",
       "    <tr>\n",
       "      <th>370</th>\n",
       "      <td>606</td>\n",
       "    </tr>\n",
       "    <tr>\n",
       "      <th>371</th>\n",
       "      <td>607</td>\n",
       "    </tr>\n",
       "    <tr>\n",
       "      <th>372</th>\n",
       "      <td>608</td>\n",
       "    </tr>\n",
       "    <tr>\n",
       "      <th>373</th>\n",
       "      <td>610</td>\n",
       "    </tr>\n",
       "  </tbody>\n",
       "</table>\n",
       "<p>374 rows × 1 columns</p>\n",
       "</div>"
      ],
      "text/plain": [
       "     user_id\n",
       "0          1\n",
       "1          4\n",
       "2          6\n",
       "3          7\n",
       "4         10\n",
       "..       ...\n",
       "369      605\n",
       "370      606\n",
       "371      607\n",
       "372      608\n",
       "373      610\n",
       "\n",
       "[374 rows x 1 columns]"
      ]
     },
     "execution_count": 5,
     "metadata": {},
     "output_type": "execute_result"
    }
   ],
   "source": [
    "usuarios"
   ]
  },
  {
   "cell_type": "code",
   "execution_count": 6,
   "metadata": {},
   "outputs": [],
   "source": [
    "\n",
    "def recomendar(user_id=list(usuarios['user_id'].value_counts().index)):\n",
    "    \n",
    "    # Se seleccionan los ratings del usuario establecido\n",
    "    ratings = pd.read_sql('SELECT * from ratings_final where userId=:user', conn, params={'user': user_id})\n",
    "    \n",
    "    #Seleccionar solo peliculas con rating mayor a 4\n",
    "    ratings = ratings[ratings['rating'] > 4]\n",
    "    \n",
    "    # Convertir ratings del usuario a array\n",
    "    ratings_array = ratings['movieId'].to_numpy()\n",
    "    \n",
    "    # Agregar la columna de movieId y título al dataframe df_dum para filtrar y mostrar nombres\n",
    "    df_dum[['movieId', 'title']] = movies[['movieId', 'title']]\n",
    "    \n",
    "    # Filtrar películas calificadas por el usuario\n",
    "    movies_r = df_dum[df_dum['movieId'].isin(ratings_array)]\n",
    "    \n",
    "    # Eliminar columnas movieId y title\n",
    "    movies_r = movies_r.drop(columns=['movieId', 'title'])\n",
    "    movies_r[\"indice\"] = 1  # Para usar group by y que quede en formato pandas tabla de centroide\n",
    "    \n",
    "    # Centroide o perfil del usuario\n",
    "    centroide = movies_r.groupby(\"indice\").mean()\n",
    "    \n",
    "    # Filtrar películas no leídas\n",
    "    movies_ns = df_dum[~df_dum['movieId'].isin(ratings_array)]\n",
    "    \n",
    "    # Eliminar columnas movieId y title\n",
    "    movies_ns = movies_ns.drop(columns=['movieId', 'title'])\n",
    "    \n",
    "    # Entrenar modelo \n",
    "    model = neighbors.NearestNeighbors(n_neighbors=10, metric='cosine')\n",
    "    model.fit(movies_ns)\n",
    "    dist, idlist = model.kneighbors(centroide)\n",
    "    \n",
    "    ids = idlist[0]  # Queda en un array anidado, para sacarlo\n",
    "    recomend_m = movies.loc[ids][['title']]\n",
    "    leidos = movies[movies['movieId'].isin(ratings_array)][['title', 'movieId']]\n",
    "    \n",
    "    return recomend_m"
   ]
  },
  {
   "cell_type": "code",
   "execution_count": 7,
   "metadata": {},
   "outputs": [
    {
     "data": {
      "text/html": [
       "<div>\n",
       "<style scoped>\n",
       "    .dataframe tbody tr th:only-of-type {\n",
       "        vertical-align: middle;\n",
       "    }\n",
       "\n",
       "    .dataframe tbody tr th {\n",
       "        vertical-align: top;\n",
       "    }\n",
       "\n",
       "    .dataframe thead th {\n",
       "        text-align: right;\n",
       "    }\n",
       "</style>\n",
       "<table border=\"1\" class=\"dataframe\">\n",
       "  <thead>\n",
       "    <tr style=\"text-align: right;\">\n",
       "      <th></th>\n",
       "      <th>title</th>\n",
       "    </tr>\n",
       "  </thead>\n",
       "  <tbody>\n",
       "    <tr>\n",
       "      <th>23</th>\n",
       "      <td>Braveheart (1995)</td>\n",
       "    </tr>\n",
       "    <tr>\n",
       "      <th>251</th>\n",
       "      <td>Mummy, The (1999)</td>\n",
       "    </tr>\n",
       "    <tr>\n",
       "      <th>306</th>\n",
       "      <td>Crouching Tiger, Hidden Dragon (Wo hu cang lon...</td>\n",
       "    </tr>\n",
       "    <tr>\n",
       "      <th>368</th>\n",
       "      <td>Harry Potter and the Prisoner of Azkaban (2004)</td>\n",
       "    </tr>\n",
       "    <tr>\n",
       "      <th>184</th>\n",
       "      <td>Jerry Maguire (1996)</td>\n",
       "    </tr>\n",
       "    <tr>\n",
       "      <th>53</th>\n",
       "      <td>Shawshank Redemption, The (1994)</td>\n",
       "    </tr>\n",
       "    <tr>\n",
       "      <th>45</th>\n",
       "      <td>Legends of the Fall (1994)</td>\n",
       "    </tr>\n",
       "    <tr>\n",
       "      <th>99</th>\n",
       "      <td>Silence of the Lambs, The (1991)</td>\n",
       "    </tr>\n",
       "    <tr>\n",
       "      <th>140</th>\n",
       "      <td>Star Wars: Episode V - The Empire Strikes Back...</td>\n",
       "    </tr>\n",
       "    <tr>\n",
       "      <th>372</th>\n",
       "      <td>Bourne Supremacy, The (2004)</td>\n",
       "    </tr>\n",
       "  </tbody>\n",
       "</table>\n",
       "</div>"
      ],
      "text/plain": [
       "                                                 title\n",
       "23                                   Braveheart (1995)\n",
       "251                                  Mummy, The (1999)\n",
       "306  Crouching Tiger, Hidden Dragon (Wo hu cang lon...\n",
       "368    Harry Potter and the Prisoner of Azkaban (2004)\n",
       "184                               Jerry Maguire (1996)\n",
       "53                    Shawshank Redemption, The (1994)\n",
       "45                          Legends of the Fall (1994)\n",
       "99                    Silence of the Lambs, The (1991)\n",
       "140  Star Wars: Episode V - The Empire Strikes Back...\n",
       "372                       Bourne Supremacy, The (2004)"
      ]
     },
     "execution_count": 7,
     "metadata": {},
     "output_type": "execute_result"
    }
   ],
   "source": [
    "# Llamar a la función con el usuario seleccionado\n",
    "recomendar(608)\n"
   ]
  },
  {
   "cell_type": "markdown",
   "metadata": {},
   "source": [
    "### Top 5 de las películas con el género más visto por el usuario"
   ]
  },
  {
   "cell_type": "code",
   "execution_count": 8,
   "metadata": {},
   "outputs": [],
   "source": [
    "import pandas as pd\n",
    "\n",
    "def recomendar_peliculas_por_genero(user_id, conn, top_n=10):\n",
    "    # Se seleccionan los ratings del usuario establecido\n",
    "    ratings = pd.read_sql('SELECT * from ratings_final where userId=:user', conn, params={'user': user_id})\n",
    "\n",
    "    # Obtener el array de movieIds vistos por el usuario\n",
    "    ratings_array = ratings['movieId'].to_numpy()\n",
    "\n",
    "    # Filtrar películas vistas por el usuario\n",
    "    peliculas_vistas = movies[movies['movieId'].isin(ratings_array)]\n",
    "\n",
    "    # Expandir los géneros de las películas vistas por el usuario (suponiendo que los géneros están separados por \"|\")\n",
    "    peliculas_vistas['genres'] = peliculas_vistas['genres'].str.split('|')\n",
    "    \n",
    "    # Descomponer géneros en filas individuales (cada fila será una película-genre)\n",
    "    peliculas_con_generos = peliculas_vistas.explode('genres')\n",
    "\n",
    "    # Contar cuántas películas ha visto el usuario por género\n",
    "    generos_contados = peliculas_con_generos['genres'].value_counts()\n",
    "\n",
    "    # Obtener el género más visto por el usuario\n",
    "    genero_mas_visto = generos_contados.idxmax()\n",
    "\n",
    "    # Filtrar películas que el usuario aún no haya visto del género más visto\n",
    "    peliculas_no_vistas = movies[~movies['movieId'].isin(ratings_array)]\n",
    "    peliculas_recomendadas = peliculas_no_vistas[peliculas_no_vistas['genres'].str.contains(genero_mas_visto, regex=False)]\n",
    "\n",
    "    # Seleccionar las primeras `top_n` películas del género más visto\n",
    "    top_recomendadas = peliculas_recomendadas[['title']].head(top_n)\n",
    "\n",
    "    return top_recomendadas, genero_mas_visto\n"
   ]
  },
  {
   "cell_type": "code",
   "execution_count": 9,
   "metadata": {},
   "outputs": [
    {
     "name": "stdout",
     "output_type": "stream",
     "text": [
      "Recomendaciones del género más visto 'Adventure':\n",
      "                                     title\n",
      "5                         GoldenEye (1995)\n",
      "21                     Broken Arrow (1996)\n",
      "29                           Casper (1995)\n",
      "30                            Congo (1995)\n",
      "38                       Waterworld (1995)\n",
      "41  Dumb & Dumber (Dumb and Dumber) (1994)\n",
      "51                         Stargate (1994)\n",
      "54           Star Trek: Generations (1994)\n",
      "63                   Lion King, The (1994)\n",
      "65                         Maverick (1994)\n"
     ]
    },
    {
     "name": "stderr",
     "output_type": "stream",
     "text": [
      "C:\\Users\\leeon\\AppData\\Local\\Temp\\ipykernel_16136\\3725160496.py:14: SettingWithCopyWarning: \n",
      "A value is trying to be set on a copy of a slice from a DataFrame.\n",
      "Try using .loc[row_indexer,col_indexer] = value instead\n",
      "\n",
      "See the caveats in the documentation: https://pandas.pydata.org/pandas-docs/stable/user_guide/indexing.html#returning-a-view-versus-a-copy\n",
      "  peliculas_vistas['genres'] = peliculas_vistas['genres'].str.split('|')\n"
     ]
    }
   ],
   "source": [
    "# Llamar a la función de recomendación\n",
    "recomendadas, genero = recomendar_peliculas_por_genero(user_id, conn)\n",
    "\n",
    "# Mostrar las recomendaciones\n",
    "print(f\"Recomendaciones del género más visto '{genero}':\")\n",
    "print(recomendadas)"
   ]
  },
  {
   "cell_type": "code",
   "execution_count": 20,
   "metadata": {},
   "outputs": [],
   "source": [
    "# Limpiar la columna 'genres': eliminar espacios extra y caracteres no deseados\n",
    "movies['genres'] = movies['genres'].str.strip()\n",
    "\n",
    "# Crear un widget Output para controlar las salidas\n",
    "output = Output()"
   ]
  },
  {
   "cell_type": "code",
   "execution_count": 21,
   "metadata": {},
   "outputs": [
    {
     "data": {
      "application/vnd.jupyter.widget-view+json": {
       "model_id": "dc33e5acfa694b46bdbece5e6822c1b6",
       "version_major": 2,
       "version_minor": 0
      },
      "text/plain": [
       "interactive(children=(Dropdown(description='genero', options=('Adventure', 'Animation', 'Children', 'Comedy', …"
      ]
     },
     "metadata": {},
     "output_type": "display_data"
    },
    {
     "data": {
      "application/vnd.jupyter.widget-view+json": {
       "model_id": "f46c915816304409b6a4fe2e4b4ce17e",
       "version_major": 2,
       "version_minor": 0
      },
      "text/plain": [
       "Output()"
      ]
     },
     "metadata": {},
     "output_type": "display_data"
    }
   ],
   "source": [
    "# Función para recomendar películas por género seleccionado y mostrar el rating promedio\n",
    "def recomendar_peliculas_por_genero(genero_seleccionado, user_id, conn, top_n=10):\n",
    "    # Se seleccionan los ratings del usuario establecido\n",
    "    ratings_user = pd.read_sql('SELECT * from ratings_final where userId=:user', conn, params={'user': user_id})\n",
    "\n",
    "    # Obtener el array de movieIds vistos por el usuario\n",
    "    ratings_array = ratings_user['movieId'].to_numpy()\n",
    "\n",
    "    # Filtrar películas vistas por el usuario\n",
    "    peliculas_vistas = movies[movies['movieId'].isin(ratings_array)]\n",
    "\n",
    "    # Expandir los géneros de las películas vistas por el usuario\n",
    "    peliculas_vistas.loc[:, 'genres'] = peliculas_vistas['genres'].str.split('|')\n",
    "    \n",
    "    # Descomponer géneros en filas individuales (cada fila será una película-genre)\n",
    "    peliculas_con_generos = peliculas_vistas.explode('genres')\n",
    "\n",
    "    # Filtrar películas no vistas del género seleccionado\n",
    "    peliculas_no_vistas = movies[~movies['movieId'].isin(ratings_array)]\n",
    "    \n",
    "    # Convertir el género seleccionado a string y eliminar espacios extra\n",
    "    genero_seleccionado_str = str(genero_seleccionado).strip()\n",
    "\n",
    "    # Filtrar las películas recomendadas por el género seleccionado\n",
    "    peliculas_recomendadas = peliculas_no_vistas[peliculas_no_vistas['genres'].str.contains(genero_seleccionado_str, regex=False)]\n",
    "\n",
    "    # Calcular el rating promedio para cada película\n",
    "    rating_promedio = ratings.groupby('movieId')['rating'].mean().reset_index()\n",
    "\n",
    "    # Unir la tabla de películas recomendadas con su rating promedio\n",
    "    peliculas_recomendadas = peliculas_recomendadas.merge(rating_promedio, on='movieId', how='left')\n",
    "\n",
    "    # Seleccionar las primeras top_n películas recomendadas y redondear el rating a 2 decimales\n",
    "    peliculas_recomendadas['rating'] = peliculas_recomendadas['rating'].round(2)\n",
    "\n",
    "    # Seleccionar las columnas 'title' y 'rating' para mostrar\n",
    "    top_recomendadas = peliculas_recomendadas[['title', 'rating']].head(top_n)\n",
    "\n",
    "    return top_recomendadas\n",
    "\n",
    "# Obtener todos los géneros únicos de la columna 'genres'\n",
    "todos_los_generos = movies['genres'].str.split('|').explode().unique()\n",
    "\n",
    "# Crear la función interactiva con salida controlada\n",
    "@interact\n",
    "def mostrar_recomendaciones(genero=todos_los_generos):\n",
    "    output.clear_output()  # Limpiar la salida anterior\n",
    "    recomendaciones = recomendar_peliculas_por_genero(genero, user_id, conn)\n",
    "    with output:\n",
    "        print(f\"Recomendaciones para el género '{genero}':\")\n",
    "        print(recomendaciones)\n",
    "\n",
    "# Mostrar el widget de salida\n",
    "display(output)\n"
   ]
  },
  {
   "cell_type": "markdown",
   "metadata": {},
   "source": [
    "## 4 Sistema de recomendación filtro colaborativo"
   ]
  },
  {
   "cell_type": "code",
   "execution_count": 12,
   "metadata": {},
   "outputs": [
    {
     "data": {
      "text/plain": [
       "[('ratings',),\n",
       " ('movies',),\n",
       " ('usuarios_sel',),\n",
       " ('movies_sel',),\n",
       " ('ratings_final',),\n",
       " ('movie_final',),\n",
       " ('full_ratings',),\n",
       " ('reco',)]"
      ]
     },
     "execution_count": 12,
     "metadata": {},
     "output_type": "execute_result"
    }
   ],
   "source": [
    "cur.execute(\"SELECT name FROM sqlite_master WHERE type='table';\")\n",
    "cur.fetchall()"
   ]
  },
  {
   "cell_type": "code",
   "execution_count": 13,
   "metadata": {},
   "outputs": [
    {
     "name": "stdout",
     "output_type": "stream",
     "text": [
      "Computing the msd similarity matrix...\n",
      "Done computing similarity matrix.\n"
     ]
    }
   ],
   "source": [
    "# Obtener datos; se filtran los mayores a 0\n",
    "rat = pd.read_sql('SELECT * FROM ratings_final WHERE rating > 0', conn)\n",
    "\n",
    "# Definir escala\n",
    "reader = Reader(rating_scale=(1, 5))  # Corregí el nombre de la variable 'Reader' por 'reader'\n",
    "\n",
    "# Leer datos con surprise\n",
    "data = Dataset.load_from_df(rat[['userId', 'movieId', 'rating']], reader)\n",
    "\n",
    "# Modelos \n",
    "models = [KNNBasic(), KNNWithMeans(), KNNWithZScore(), KNNBaseline()] \n",
    "results = {}\n",
    "\n",
    "# Probar modelos\n",
    "for model in models:\n",
    "    CV_scores = cross_validate(model, data, measures=[\"MAE\", \"RMSE\"], cv=5, n_jobs=-1)\n",
    "    \n",
    "    result = pd.DataFrame.from_dict(CV_scores).mean(axis=0).\\\n",
    "             rename({'test_mae':'MAE', 'test_rmse': 'RMSE'})\n",
    "    results[str(model).split(\"algorithms.\")[1].split(\"object \")[0]] = result\n",
    "\n",
    "performance_df = pd.DataFrame.from_dict(results).T\n",
    "performance_df.sort_values(by='RMSE')\n",
    "\n",
    "# Se seleccionó el KNNBasic porque tiene mejores métricas en \"MAE Y RMSE\"\n",
    "\n",
    "# Definir la grilla de parámetros para la búsqueda de hiperparámetros\n",
    "param_grid = {\n",
    "    'sim_options': {\n",
    "        'name': ['msd', 'cosine'],\n",
    "        'min_support': [5],\n",
    "        'user_based': [False, True]\n",
    "    }\n",
    "}\n",
    "\n",
    "gridsearchKNNBasic = GridSearchCV(KNNBasic, param_grid, measures=['rmse'], cv=2, n_jobs=-1)\n",
    "\n",
    "gridsearchKNNBasic.fit(data)\n",
    "\n",
    "gridsearchKNNBasic.best_params[\"rmse\"]\n",
    "gridsearchKNNBasic.best_score[\"rmse\"]\n",
    "gs_model = gridsearchKNNBasic.best_estimator['rmse']\n",
    "\n",
    "# Entrenar con todos los datos, y realizar predicciones con el modelo afinado\n",
    "trainset = data.build_full_trainset()\n",
    "model1 = gs_model.fit(trainset)\n",
    "predset = trainset.build_anti_testset()\n",
    "len(predset)\n",
    "predictions = gs_model.test(predset)\n",
    "\n",
    "# Crear base; películas no vistas por usuario + calificación predicha \n",
    "predictions_df = pd.DataFrame(predictions) \n",
    "predictions_df.shape\n",
    "predictions_df.head()\n",
    "predictions_df['r_ui'].unique()\n",
    "predictions_df.sort_values(by='est', ascending=False)\n",
    "\n",
    "\n",
    "# Función para recomendar 11 películas a un usuario específico\n",
    "def recomendaciones(user_id, n_recomend=11):\n",
    "    predictions_userID = predictions_df[predictions_df['uid'] == user_id].\\\n",
    "                    sort_values(by=\"est\", ascending = False).head(n_recomend)\n",
    "\n",
    "    recomendados = predictions_userID[['iid', 'est']]\n",
    "    recomendados.to_sql('reco', conn, if_exists=\"replace\")\n",
    "    \n",
    "    # Cambié 'movies_1' por 'movies_sel' según tus tablas\n",
    "    mov = pd.read_sql('''SELECT b.title FROM reco a LEFT JOIN movie_final b ON a.iid=b.movieId''', conn)\n",
    "    return mov\n"
   ]
  },
  {
   "cell_type": "code",
   "execution_count": 14,
   "metadata": {},
   "outputs": [
    {
     "name": "stdout",
     "output_type": "stream",
     "text": [
      "                                               title\n",
      "0             Monty Python and the Holy Grail (1975)\n",
      "1                    Star Trek: First Contact (1996)\n",
      "2                             Children of Men (2006)\n",
      "3  Star Wars: Episode V - The Empire Strikes Back...\n",
      "4                               28 Days Later (2002)\n",
      "5   Pan's Labyrinth (Laberinto del fauno, El) (2006)\n",
      "6                                          Up (2009)\n",
      "7                               Prestige, The (2006)\n",
      "8                   Shawshank Redemption, The (1994)\n",
      "9                         Million Dollar Baby (2004)\n"
     ]
    }
   ],
   "source": [
    "# Obtener y mostrar las 11 películas recomendadas al usuario 50\n",
    "peliculas = recomendaciones(user_id=605, n_recomend=10)\n",
    "print(peliculas)"
   ]
  }
 ],
 "metadata": {
  "kernelspec": {
   "display_name": "my_env",
   "language": "python",
   "name": "python3"
  },
  "language_info": {
   "codemirror_mode": {
    "name": "ipython",
    "version": 3
   },
   "file_extension": ".py",
   "mimetype": "text/x-python",
   "name": "python",
   "nbconvert_exporter": "python",
   "pygments_lexer": "ipython3",
   "version": "3.9.20"
  }
 },
 "nbformat": 4,
 "nbformat_minor": 2
}

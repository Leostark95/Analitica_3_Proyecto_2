{
 "cells": [
  {
   "cell_type": "markdown",
   "metadata": {},
   "source": [
    "## Librerías"
   ]
  },
  {
   "cell_type": "code",
   "execution_count": 2,
   "metadata": {},
   "outputs": [],
   "source": [
    "# Librerías de ciencia de datos \n",
    "import numpy as np\n",
    "import pandas as pd\n",
    "import sqlite3 as sql\n",
    "\n",
    "# Librerías para preprocesamiento \n",
    "from sklearn.preprocessing import MinMaxScaler\n",
    "\n",
    "# Librerías para análisis interactivo \n",
    "from ipywidgets import interact \n",
    "from sklearn import neighbors \n",
    "import joblib\n",
    "\n",
    "# Paquete para sistemas de recomendación surprise \n",
    "from surprise import Reader, Dataset\n",
    "from surprise.model_selection import cross_validate, GridSearchCV\n",
    "from surprise import KNNBasic, KNNWithMeans, KNNWithZScore, KNNBaseline\n",
    "from surprise.model_selection import train_test_split"
   ]
  },
  {
   "cell_type": "markdown",
   "metadata": {},
   "source": [
    "## Carga de datos"
   ]
  },
  {
   "cell_type": "code",
   "execution_count": 3,
   "metadata": {},
   "outputs": [],
   "source": [
    "#### Conectar #######\n",
    "conn=sql.connect('data/db_movies')\n",
    "cur=conn.cursor()"
   ]
  },
  {
   "cell_type": "code",
   "execution_count": 4,
   "metadata": {},
   "outputs": [
    {
     "data": {
      "text/plain": [
       "[('ratings',),\n",
       " ('movies',),\n",
       " ('usuarios_sel',),\n",
       " ('movies_sel',),\n",
       " ('ratings_final',),\n",
       " ('movie_final',),\n",
       " ('full_ratings',)]"
      ]
     },
     "execution_count": 4,
     "metadata": {},
     "output_type": "execute_result"
    }
   ],
   "source": [
    "#ver tablas\n",
    "cur.execute(\"SELECT name FROM sqlite_master WHERE type='table';\")\n",
    "cur.fetchall()"
   ]
  },
  {
   "cell_type": "markdown",
   "metadata": {},
   "source": [
    "## 3 Sistema de recomendación basado en contenido KNN Con base en todo lo visto por el usuario"
   ]
  },
  {
   "cell_type": "markdown",
   "metadata": {},
   "source": [
    "### Top 10 de las películas más similares a las vistas por el usuario y con una que le haya dado una calificación mayor a 4."
   ]
  },
  {
   "cell_type": "code",
   "execution_count": 20,
   "metadata": {},
   "outputs": [],
   "source": [
    "# Vamos a trabajar con el dataframe escalado y con dummies df_dum \n",
    "df_dum = pd.read_csv('data/df_dum.csv')\n",
    "movies = pd.read_sql(\"SELECT * FROM movie_final\", conn)\n",
    "\n",
    "# Se selecciona un usuario para realizar las recomendaciones \n",
    "usuarios = pd.read_sql('SELECT distinct (userId) as user_id from ratings_final', conn)\n",
    "\n",
    "# Seleccionamos un usuario para realizar el sistema de recomendación\n",
    "user_id = 607\n",
    "movies\n",
    "ratings = pd.read_sql('SELECT * FROM ratings_final', conn)"
   ]
  },
  {
   "cell_type": "code",
   "execution_count": 21,
   "metadata": {},
   "outputs": [
    {
     "data": {
      "text/html": [
       "<div>\n",
       "<style scoped>\n",
       "    .dataframe tbody tr th:only-of-type {\n",
       "        vertical-align: middle;\n",
       "    }\n",
       "\n",
       "    .dataframe tbody tr th {\n",
       "        vertical-align: top;\n",
       "    }\n",
       "\n",
       "    .dataframe thead th {\n",
       "        text-align: right;\n",
       "    }\n",
       "</style>\n",
       "<table border=\"1\" class=\"dataframe\">\n",
       "  <thead>\n",
       "    <tr style=\"text-align: right;\">\n",
       "      <th></th>\n",
       "      <th>user_id</th>\n",
       "    </tr>\n",
       "  </thead>\n",
       "  <tbody>\n",
       "    <tr>\n",
       "      <th>0</th>\n",
       "      <td>1</td>\n",
       "    </tr>\n",
       "    <tr>\n",
       "      <th>1</th>\n",
       "      <td>4</td>\n",
       "    </tr>\n",
       "    <tr>\n",
       "      <th>2</th>\n",
       "      <td>6</td>\n",
       "    </tr>\n",
       "    <tr>\n",
       "      <th>3</th>\n",
       "      <td>7</td>\n",
       "    </tr>\n",
       "    <tr>\n",
       "      <th>4</th>\n",
       "      <td>10</td>\n",
       "    </tr>\n",
       "    <tr>\n",
       "      <th>...</th>\n",
       "      <td>...</td>\n",
       "    </tr>\n",
       "    <tr>\n",
       "      <th>369</th>\n",
       "      <td>605</td>\n",
       "    </tr>\n",
       "    <tr>\n",
       "      <th>370</th>\n",
       "      <td>606</td>\n",
       "    </tr>\n",
       "    <tr>\n",
       "      <th>371</th>\n",
       "      <td>607</td>\n",
       "    </tr>\n",
       "    <tr>\n",
       "      <th>372</th>\n",
       "      <td>608</td>\n",
       "    </tr>\n",
       "    <tr>\n",
       "      <th>373</th>\n",
       "      <td>610</td>\n",
       "    </tr>\n",
       "  </tbody>\n",
       "</table>\n",
       "<p>374 rows × 1 columns</p>\n",
       "</div>"
      ],
      "text/plain": [
       "     user_id\n",
       "0          1\n",
       "1          4\n",
       "2          6\n",
       "3          7\n",
       "4         10\n",
       "..       ...\n",
       "369      605\n",
       "370      606\n",
       "371      607\n",
       "372      608\n",
       "373      610\n",
       "\n",
       "[374 rows x 1 columns]"
      ]
     },
     "execution_count": 21,
     "metadata": {},
     "output_type": "execute_result"
    }
   ],
   "source": [
    "usuarios"
   ]
  },
  {
   "cell_type": "code",
   "execution_count": 29,
   "metadata": {},
   "outputs": [],
   "source": [
    "\n",
    "def recomendar(user_id=list(usuarios['user_id'].value_counts().index)):\n",
    "    \n",
    "    # Se seleccionan los ratings del usuario establecido\n",
    "    ratings = pd.read_sql('SELECT * from ratings_final where userId=:user', conn, params={'user': user_id})\n",
    "    \n",
    "    #Seleccionar solo peliculas con rating mayor a 4\n",
    "    ratings = ratings[ratings['rating'] > 4]\n",
    "    \n",
    "    # Convertir ratings del usuario a array\n",
    "    ratings_array = ratings['movieId'].to_numpy()\n",
    "    \n",
    "    # Agregar la columna de movieId y título al dataframe df_dum para filtrar y mostrar nombres\n",
    "    df_dum[['movieId', 'title']] = movies[['movieId', 'title']]\n",
    "    \n",
    "    # Filtrar películas calificadas por el usuario\n",
    "    movies_r = df_dum[df_dum['movieId'].isin(ratings_array)]\n",
    "    \n",
    "    # Eliminar columnas movieId y title\n",
    "    movies_r = movies_r.drop(columns=['movieId', 'title'])\n",
    "    movies_r[\"indice\"] = 1  # Para usar group by y que quede en formato pandas tabla de centroide\n",
    "    \n",
    "    # Centroide o perfil del usuario\n",
    "    centroide = movies_r.groupby(\"indice\").mean()\n",
    "    \n",
    "    # Filtrar películas no leídas\n",
    "    movies_ns = df_dum[~df_dum['movieId'].isin(ratings_array)]\n",
    "    \n",
    "    # Eliminar columnas movieId y title\n",
    "    movies_ns = movies_ns.drop(columns=['movieId', 'title'])\n",
    "    \n",
    "    # Entrenar modelo \n",
    "    model = neighbors.NearestNeighbors(n_neighbors=10, metric='cosine')\n",
    "    model.fit(movies_ns)\n",
    "    dist, idlist = model.kneighbors(centroide)\n",
    "    \n",
    "    ids = idlist[0]  # Queda en un array anidado, para sacarlo\n",
    "    recomend_m = movies.loc[ids][['title']]\n",
    "    leidos = movies[movies['movieId'].isin(ratings_array)][['title', 'movieId']]\n",
    "    \n",
    "    return recomend_m"
   ]
  },
  {
   "cell_type": "code",
   "execution_count": 28,
   "metadata": {},
   "outputs": [
    {
     "data": {
      "text/html": [
       "<div>\n",
       "<style scoped>\n",
       "    .dataframe tbody tr th:only-of-type {\n",
       "        vertical-align: middle;\n",
       "    }\n",
       "\n",
       "    .dataframe tbody tr th {\n",
       "        vertical-align: top;\n",
       "    }\n",
       "\n",
       "    .dataframe thead th {\n",
       "        text-align: right;\n",
       "    }\n",
       "</style>\n",
       "<table border=\"1\" class=\"dataframe\">\n",
       "  <thead>\n",
       "    <tr style=\"text-align: right;\">\n",
       "      <th></th>\n",
       "      <th>title</th>\n",
       "    </tr>\n",
       "  </thead>\n",
       "  <tbody>\n",
       "    <tr>\n",
       "      <th>256</th>\n",
       "      <td>Austin Powers: The Spy Who Shagged Me (1999)</td>\n",
       "    </tr>\n",
       "    <tr>\n",
       "      <th>21</th>\n",
       "      <td>Broken Arrow (1996)</td>\n",
       "    </tr>\n",
       "    <tr>\n",
       "      <th>221</th>\n",
       "      <td>Back to the Future Part II (1989)</td>\n",
       "    </tr>\n",
       "    <tr>\n",
       "      <th>276</th>\n",
       "      <td>Being John Malkovich (1999)</td>\n",
       "    </tr>\n",
       "    <tr>\n",
       "      <th>309</th>\n",
       "      <td>Cast Away (2000)</td>\n",
       "    </tr>\n",
       "    <tr>\n",
       "      <th>279</th>\n",
       "      <td>Sleepy Hollow (1999)</td>\n",
       "    </tr>\n",
       "    <tr>\n",
       "      <th>49</th>\n",
       "      <td>Pulp Fiction (1994)</td>\n",
       "    </tr>\n",
       "    <tr>\n",
       "      <th>165</th>\n",
       "      <td>Shining, The (1980)</td>\n",
       "    </tr>\n",
       "    <tr>\n",
       "      <th>179</th>\n",
       "      <td>Star Trek II: The Wrath of Khan (1982)</td>\n",
       "    </tr>\n",
       "    <tr>\n",
       "      <th>305</th>\n",
       "      <td>Unbreakable (2000)</td>\n",
       "    </tr>\n",
       "  </tbody>\n",
       "</table>\n",
       "</div>"
      ],
      "text/plain": [
       "                                            title\n",
       "256  Austin Powers: The Spy Who Shagged Me (1999)\n",
       "21                            Broken Arrow (1996)\n",
       "221             Back to the Future Part II (1989)\n",
       "276                   Being John Malkovich (1999)\n",
       "309                              Cast Away (2000)\n",
       "279                          Sleepy Hollow (1999)\n",
       "49                            Pulp Fiction (1994)\n",
       "165                           Shining, The (1980)\n",
       "179        Star Trek II: The Wrath of Khan (1982)\n",
       "305                            Unbreakable (2000)"
      ]
     },
     "execution_count": 28,
     "metadata": {},
     "output_type": "execute_result"
    }
   ],
   "source": [
    "# Llamar a la función con el usuario seleccionado\n",
    "recomendar(608)\n"
   ]
  },
  {
   "cell_type": "markdown",
   "metadata": {},
   "source": [
    "### Top 5 de las películas con el género más visto por el usuario"
   ]
  },
  {
   "cell_type": "code",
   "execution_count": null,
   "metadata": {},
   "outputs": [],
   "source": []
  },
  {
   "cell_type": "markdown",
   "metadata": {},
   "source": [
    "## 4 Sistema de recomendación filtro colaborativo"
   ]
  },
  {
   "cell_type": "code",
   "execution_count": null,
   "metadata": {},
   "outputs": [],
   "source": [
    "# Obtener datos; se filtran los mayores a 0\n",
    "rat = pd.read_sql('SELECT * FROM ratings_final WHERE rating > 0', conn)\n",
    "\n",
    "# Definir escala\n",
    "reader = Reader(rating_scale=(1, 5))  # Corregí el nombre de la variable 'Reader' por 'reader'\n",
    "\n",
    "# Leer datos con surprise\n",
    "data = Dataset.load_from_df(rat[['userId', 'movieId', 'rating']], reader)\n",
    "\n",
    "# Modelos \n",
    "models = [KNNBasic(), KNNWithMeans(), KNNWithZScore(), KNNBaseline()] \n",
    "results = {}\n",
    "\n",
    "# Probar modelos\n",
    "for model in models:\n",
    "    CV_scores = cross_validate(model, data, measures=[\"MAE\", \"RMSE\"], cv=5, n_jobs=-1)\n",
    "    \n",
    "    result = pd.DataFrame.from_dict(CV_scores).mean(axis=0).\\\n",
    "             rename({'test_mae':'MAE', 'test_rmse': 'RMSE'})\n",
    "    results[str(model).split(\"algorithms.\")[1].split(\"object \")[0]] = result\n",
    "\n",
    "performance_df = pd.DataFrame.from_dict(results).T\n",
    "performance_df.sort_values(by='RMSE')\n",
    "\n",
    "# Se seleccionó el KNNBasic porque tiene mejores métricas en \"MAE Y RMSE\"\n",
    "\n",
    "# Definir la grilla de parámetros para la búsqueda de hiperparámetros\n",
    "param_grid = {\n",
    "    'sim_options': {\n",
    "        'name': ['msd', 'cosine'],\n",
    "        'min_support': [5],\n",
    "        'user_based': [False, True]\n",
    "    }\n",
    "}\n",
    "\n",
    "gridsearchKNNBasic = GridSearchCV(KNNBasic, param_grid, measures=['rmse'], cv=2, n_jobs=-1)\n",
    "\n",
    "gridsearchKNNBasic.fit(data)\n",
    "\n",
    "gridsearchKNNBasic.best_params[\"rmse\"]\n",
    "gridsearchKNNBasic.best_score[\"rmse\"]\n",
    "gs_model = gridsearchKNNBasic.best_estimator['rmse']\n",
    "\n",
    "# Entrenar con todos los datos, y realizar predicciones con el modelo afinado\n",
    "trainset = data.build_full_trainset()\n",
    "model1 = gs_model.fit(trainset)\n",
    "predset = trainset.build_anti_testset()\n",
    "len(predset)\n",
    "predictions = gs_model.test(predset)\n",
    "\n",
    "# Crear base; películas no vistas por usuario + calificación predicha \n",
    "predictions_df = pd.DataFrame(predictions) \n",
    "predictions_df.shape\n",
    "predictions_df.head()\n",
    "predictions_df['r_ui'].unique()\n",
    "predictions_df.sort_values(by='est', ascending=False)\n",
    "\n",
    "# Función para recomendar 11 películas a un usuario específico\n",
    "def recomendaciones(user_id, n_recomend=11):\n",
    "    predictions_userID = predictions_df[predictions_df['uid'] == user_id].\\\n",
    "                    sort_values(by=\"est\", ascending = False).head(n_recomend)\n",
    "\n",
    "    recomendados = predictions_userID[['iid', 'est']]\n",
    "    recomendados.to_sql('reco', conn, if_exists=\"replace\")\n",
    "    \n",
    "    # Cambié 'movies_1' por 'movies_sel' según tus tablas\n",
    "    mov = pd.read_sql('''SELECT a.*, b.title FROM reco a LEFT JOIN movies_sel b ON a.iid=b.movieId''', conn)\n",
    "    return mov\n",
    "\n",
    "# Obtener y mostrar las 11 películas recomendadas al usuario 50\n",
    "peliculas = recomendaciones(user_id=50, n_recomend=11)\n",
    "print(peliculas)\n"
   ]
  }
 ],
 "metadata": {
  "kernelspec": {
   "display_name": "entorno_py39",
   "language": "python",
   "name": "python3"
  },
  "language_info": {
   "codemirror_mode": {
    "name": "ipython",
    "version": 3
   },
   "file_extension": ".py",
   "mimetype": "text/x-python",
   "name": "python",
   "nbconvert_exporter": "python",
   "pygments_lexer": "ipython3",
   "version": "3.9.20"
  }
 },
 "nbformat": 4,
 "nbformat_minor": 2
}

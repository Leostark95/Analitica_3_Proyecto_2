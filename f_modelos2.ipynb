{
 "cells": [
  {
   "cell_type": "markdown",
   "metadata": {},
   "source": [
    "## Librerías"
   ]
  },
  {
   "cell_type": "code",
   "execution_count": 1,
   "metadata": {},
   "outputs": [],
   "source": [
    "# Librerías de ciencia de datos \n",
    "import numpy as np\n",
    "import pandas as pd\n",
    "import sqlite3 as sql\n",
    "\n",
    "# para análisis interactivo\n",
    "from ipywidgets import interact, Output, widgets\n",
    "\n",
    "# Librerías para preprocesamiento \n",
    "from sklearn.preprocessing import MinMaxScaler\n",
    "from sklearn import neighbors \n",
    "import joblib\n",
    "\n",
    "# Paquete para sistemas de recomendación surprise \n",
    "from surprise.model_selection import train_test_split\n",
    "from surprise.model_selection import cross_validate, GridSearchCV\n",
    "from surprise import KNNBasic, KNNWithMeans, KNNWithZScore, KNNBaseline\n",
    "from surprise import Reader, Dataset"
   ]
  },
  {
   "cell_type": "markdown",
   "metadata": {},
   "source": [
    "## Carga de datos"
   ]
  },
  {
   "cell_type": "code",
   "execution_count": 2,
   "metadata": {},
   "outputs": [],
   "source": [
    "#### Conectar #######\n",
    "conn=sql.connect('data/db_movies')\n",
    "cur=conn.cursor()"
   ]
  },
  {
   "cell_type": "code",
   "execution_count": 3,
   "metadata": {},
   "outputs": [
    {
     "data": {
      "text/plain": [
       "[('ratings',),\n",
       " ('movies',),\n",
       " ('usuarios_sel',),\n",
       " ('movies_sel',),\n",
       " ('ratings_final',),\n",
       " ('movie_final',),\n",
       " ('full_ratings',),\n",
       " ('full_ratings_dum',),\n",
       " ('reco',)]"
      ]
     },
     "execution_count": 3,
     "metadata": {},
     "output_type": "execute_result"
    }
   ],
   "source": [
    "#ver tablas\n",
    "cur.execute(\"SELECT name FROM sqlite_master WHERE type='table';\")\n",
    "cur.fetchall()"
   ]
  },
  {
   "cell_type": "code",
   "execution_count": 4,
   "metadata": {},
   "outputs": [],
   "source": [
    "# Vamos a trabajar con el dataframe escalado y con dummies df_dum \n",
    "df_dum = pd.read_sql(\"SELECT * FROM full_ratings_dum\", conn)\n",
    "movies = pd.read_sql(\"SELECT * FROM movie_final\", conn)\n",
    "\n",
    "# Se selecciona un usuario para realizar las recomendaciones \n",
    "usuarios = pd.read_sql('SELECT distinct (userId) as user_id from ratings_final', conn)\n",
    "\n",
    "# Seleccionamos un usuario para realizar el sistema de recomendación\n",
    "user_id = 605\n",
    "movies\n",
    "ratings = pd.read_sql('SELECT * FROM ratings_final', conn)"
   ]
  },
  {
   "cell_type": "markdown",
   "metadata": {},
   "source": [
    "## 3. Sistema de recomendación basado en contenido KNN Con base en todo lo visto por el usuario"
   ]
  },
  {
   "cell_type": "markdown",
   "metadata": {},
   "source": [
    "### Top 10 de las películas más similares a las vistas por el usuario y con una que le haya dado una calificación mayor a 3.5."
   ]
  },
  {
   "cell_type": "code",
   "execution_count": 14,
   "metadata": {},
   "outputs": [
    {
     "data": {
      "application/vnd.jupyter.widget-view+json": {
       "model_id": "13b1af87861c4d9387da3e906f952b88",
       "version_major": 2,
       "version_minor": 0
      },
      "text/plain": [
       "interactive(children=(IntSlider(value=605, description='User ID:', max=1000, min=1), Output()), _dom_classes=(…"
      ]
     },
     "metadata": {},
     "output_type": "display_data"
    },
    {
     "data": {
      "text/plain": [
       "<function __main__.interfaz_recomendaciones(user_id)>"
      ]
     },
     "execution_count": 14,
     "metadata": {},
     "output_type": "execute_result"
    }
   ],
   "source": [
    "\n",
    "# Función para recomendar películas\n",
    "def recomendar(user_id, k=5):\n",
    "    \n",
    "    \"\"\" \n",
    "    Esta función tiene como objetivo recomendar películas a un usuario específico en función de sus calificaciones. \n",
    "    Para ello, recibe como argumento el user_id, que identifica al usuario, y un parámetro opcional k, \n",
    "    que determina la cantidad de recomendaciones a realizar (por defecto, 5).\n",
    "    \n",
    "    La función comienza obteniendo las calificaciones del usuario desde una base de datos y filtra aquellas películas \n",
    "    que tienen un rating superior a 3.5. Si el usuario no tiene calificaciones válidas, la función devuelve un mensaje indicándolo. \n",
    "    A continuación, calcula un \"centroide\" que representa las preferencias del usuario en función de las películas que ha calificado. \n",
    "    Luego, utiliza el modelo de K-Vecinos más cercanos (KNN) para identificar películas similares que el usuario no ha visto. \n",
    "    Finalmente, retorna un dataframe con los títulos de las películas recomendadas.\n",
    "    \n",
    "    \"\"\"\n",
    " # Obtener las calificaciones del usuario\n",
    "    ratings = pd.read_sql('select * from ratings_final where userId=:user', conn, params={'user': user_id})\n",
    "    \n",
    "    # Filtrar películas con rating mayor a 3.5\n",
    "    ratings = ratings[ratings['rating'] > 3.5]\n",
    "    \n",
    "    # Si no hay ratings válidos, devolver mensaje\n",
    "    if ratings.empty:\n",
    "        return f\"El usuario {user_id} no tiene películas calificadas con un rating mayor a 3.5.\"\n",
    "\n",
    "    # Convertir ratings a array\n",
    "    ratings_array = ratings['movieId'].to_numpy()\n",
    "    \n",
    "    # Agregar movieId y título al dataframe df_dum\n",
    "    df_dum[['movieId', 'title']] = movies[['movieId', 'title']]\n",
    "    \n",
    "    # Filtrar películas calificadas por el usuario\n",
    "    movies_r = df_dum[df_dum['movieId'].isin(ratings_array)]\n",
    "    \n",
    "    # Calcular el centroide del usuario\n",
    "    movies_r = movies_r.drop(columns=['movieId', 'title'])\n",
    "    movies_r[\"indice\"] = 1\n",
    "    centroide = movies_r.groupby(\"indice\").mean()\n",
    "    \n",
    "    # Filtrar películas no vistas por el usuario\n",
    "    movies_ns = df_dum[~df_dum['movieId'].isin(ratings_array)].drop(columns=['movieId', 'title'])\n",
    "    \n",
    "    # Entrenar el modelo de K-Vecinos\n",
    "    model = neighbors.NearestNeighbors(n_neighbors=k, metric='cosine')\n",
    "    model.fit(movies_ns)\n",
    "    \n",
    "    # Obtener las películas más cercanas\n",
    "    dist, idlist = model.kneighbors(centroide)\n",
    "    \n",
    "    # Comprobar si hay suficientes vecinos cercanos\n",
    "    if len(idlist[0]) < k:\n",
    "        return f\"No hay suficientes vecinos cercanos para el usuario {user_id}.\"\n",
    "\n",
    "    # Obtener los títulos de las películas recomendadas\n",
    "    ids = idlist[0]\n",
    "    recomend_m = movies.loc[ids][['title']]\n",
    "    \n",
    "    return recomend_m\n",
    "\n",
    "\n",
    "# Función para la interfaz interactiva\n",
    "def interfaz_recomendaciones(user_id):\n",
    "    \"\"\" \n",
    "    Esta función tiene como objetivo proporcionar una interfaz interactiva para mostrar recomendaciones de películas a un usuario específico. \n",
    "    Recibe como argumento el user_id, que identifica al usuario cuyas preferencias de películas se están considerando.\n",
    "\n",
    "    Dentro de la función, se llama a la función recomendar, pasando el user_id como parámetro para obtener las recomendaciones correspondientes. \n",
    "    Luego, imprime un mensaje que indica el usuario para el cual se están generando las recomendaciones, seguido de la lista de películas recomendadas.\n",
    "    \"\"\"\n",
    "    recomendaciones_resultado = recomendar(user_id)\n",
    "    print(f\"Recomendaciones para el usuario {user_id}:\")\n",
    "    print(recomendaciones_resultado)\n",
    "\n",
    "# Crear un widget interactivo para que el usuario seleccione el user_id\n",
    "interact(interfaz_recomendaciones,\n",
    "         user_id=widgets.IntSlider(min=1, max=1000, step=1, value=605, description='User ID:'))\n"
   ]
  },
  {
   "cell_type": "markdown",
   "metadata": {},
   "source": [
    "### 3.1. Top 5 de las películas más similares a las vistas por el usuario según el género"
   ]
  },
  {
   "cell_type": "code",
   "execution_count": 6,
   "metadata": {},
   "outputs": [],
   "source": [
    "# Limpiar la columna 'genres': eliminar espacios extra y caracteres no deseados\n",
    "movies['genres'] = movies['genres'].str.strip()\n",
    "\n",
    "# Crear un widget Output para controlar las salidas\n",
    "output = Output()"
   ]
  },
  {
   "cell_type": "code",
   "execution_count": 13,
   "metadata": {},
   "outputs": [
    {
     "data": {
      "application/vnd.jupyter.widget-view+json": {
       "model_id": "73d6be68492b425182547f3f5a988635",
       "version_major": 2,
       "version_minor": 0
      },
      "text/plain": [
       "interactive(children=(Dropdown(description='genero', options=('Adventure', 'Animation', 'Children', 'Comedy', …"
      ]
     },
     "metadata": {},
     "output_type": "display_data"
    },
    {
     "data": {
      "application/vnd.jupyter.widget-view+json": {
       "model_id": "e7d174cdca7a4637a15c1009a0d16c57",
       "version_major": 2,
       "version_minor": 0
      },
      "text/plain": [
       "Output(outputs=({'name': 'stdout', 'text': \"Recomendaciones para el género 'Adventure':\\n                     …"
      ]
     },
     "metadata": {},
     "output_type": "display_data"
    }
   ],
   "source": [
    "\n",
    "\n",
    "# Función para recomendar películas por género seleccionado y mostrar el rating promedio\n",
    "def recomendar_peliculas_por_genero(genero_seleccionado, user_id, conn, top_n=5):\n",
    "    \n",
    "    \"\"\" \n",
    "    Esta función recomienda películas a un usuario según un género específico. Recibe como argumentos el genero_seleccionado, \n",
    "    el user_id, la conexión conn a la base de datos y un parámetro opcional top_n para definir cuántas recomendaciones se deben devolver (por defecto es 5).\n",
    "    Filtra las películas que el usuario ha visto y las que no, seleccionando solo aquellas del género elegido. \n",
    "    Calcula el rating promedio de las películas recomendadas y retorna los títulos y ratings de las top_n mejores opciones.\n",
    "    \"\"\"\n",
    "    \n",
    "    # Obtener ratings del usuario\n",
    "    ratings_user = pd.read_sql('select * from ratings_final where userId=:user', conn, params={'user': user_id})\n",
    "\n",
    "    # Obtener películas vistas por el usuario\n",
    "    ratings_array = ratings_user['movieId'].to_numpy()\n",
    "    peliculas_vistas = movies[movies['movieId'].isin(ratings_array)]\n",
    "\n",
    "    # Expandir géneros de las películas vistas\n",
    "    peliculas_vistas.loc[:, 'genres'] = peliculas_vistas['genres'].str.split('|')\n",
    "    peliculas_con_generos = peliculas_vistas.explode('genres')\n",
    "\n",
    "    # Filtrar películas no vistas del género seleccionado\n",
    "    peliculas_no_vistas = movies[~movies['movieId'].isin(ratings_array)]\n",
    "    genero_seleccionado_str = str(genero_seleccionado).strip()\n",
    "    peliculas_recomendadas = peliculas_no_vistas[peliculas_no_vistas['genres'].str.contains(genero_seleccionado_str, regex=False)]\n",
    "\n",
    "    # Calcular rating promedio para las películas\n",
    "    rating_promedio = ratings.groupby('movieId')['rating'].mean().reset_index()\n",
    "    peliculas_recomendadas = peliculas_recomendadas.merge(rating_promedio, on='movieId', how='left')\n",
    "\n",
    "    # Redondear ratings y seleccionar las mejores\n",
    "    peliculas_recomendadas['rating'] = peliculas_recomendadas['rating'].round(2)\n",
    "    top_recomendadas = peliculas_recomendadas[['title', 'rating']].head(top_n)\n",
    "\n",
    "    return top_recomendadas\n",
    "\n",
    "# Obtener todos los géneros únicos de la columna 'genres'\n",
    "todos_los_generos = movies['genres'].str.split('|').explode().unique()\n",
    "\n",
    "# Crear la función interactiva con salida controlada\n",
    "\n",
    "\n",
    "@interact\n",
    "def mostrar_recomendaciones(genero=todos_los_generos):\n",
    "    output.clear_output()  # Limpiar la salida anterior\n",
    "    recomendaciones = recomendar_peliculas_por_genero(genero, user_id, conn)\n",
    "    with output:\n",
    "        print(f\"Recomendaciones para el género '{genero}':\")\n",
    "        print(recomendaciones)\n",
    "\n",
    "# Mostrar el widget de salida\n",
    "display(output)\n"
   ]
  },
  {
   "cell_type": "markdown",
   "metadata": {},
   "source": [
    "## 4. Sistema de recomendación filtro colaborativo"
   ]
  },
  {
   "cell_type": "markdown",
   "metadata": {},
   "source": [
    "## Top 10 de las películas con mayor calificación predicha"
   ]
  },
  {
   "cell_type": "code",
   "execution_count": 18,
   "metadata": {},
   "outputs": [],
   "source": [
    "\n",
    "# Obtener datos de calificaciones, filtrando las mayores a 0\n",
    "rat = pd.read_sql('select * from ratings_final where rating > 0', conn)\n",
    "\n",
    "# Definir escala de calificaciones\n",
    "reader = Reader(rating_scale=(1, 5))\n",
    "\n",
    "# Cargar datos en el formato esperado por Surprise\n",
    "data = Dataset.load_from_df(rat[['userId', 'movieId', 'rating']], reader)"
   ]
  },
  {
   "cell_type": "markdown",
   "metadata": {},
   "source": [
    "### Selección del modelo"
   ]
  },
  {
   "cell_type": "code",
   "execution_count": 19,
   "metadata": {},
   "outputs": [],
   "source": [
    "# Modelos a probar\n",
    "models = [KNNBasic(), KNNWithMeans(), KNNWithZScore(), KNNBaseline()]\n",
    "results = {}"
   ]
  },
  {
   "cell_type": "code",
   "execution_count": 20,
   "metadata": {},
   "outputs": [],
   "source": [
    "# Evaluar modelos usando validación cruzada\n",
    "for model in models:\n",
    "    CV_scores = cross_validate(model, data, measures=[\"MAE\", \"RMSE\"], cv=5, n_jobs=-1)\n",
    "    result = pd.DataFrame.from_dict(CV_scores).mean(axis=0).rename({'test_mae': 'MAE', 'test_rmse': 'RMSE'})\n",
    "    results[str(model).split(\"algorithms.\")[1].split(\"object \")[0]] = result\n"
   ]
  },
  {
   "cell_type": "code",
   "execution_count": 33,
   "metadata": {},
   "outputs": [
    {
     "data": {
      "text/html": [
       "<div>\n",
       "<style scoped>\n",
       "    .dataframe tbody tr th:only-of-type {\n",
       "        vertical-align: middle;\n",
       "    }\n",
       "\n",
       "    .dataframe tbody tr th {\n",
       "        vertical-align: top;\n",
       "    }\n",
       "\n",
       "    .dataframe thead th {\n",
       "        text-align: right;\n",
       "    }\n",
       "</style>\n",
       "<table border=\"1\" class=\"dataframe\">\n",
       "  <thead>\n",
       "    <tr style=\"text-align: right;\">\n",
       "      <th></th>\n",
       "      <th>MAE</th>\n",
       "      <th>RMSE</th>\n",
       "      <th>fit_time</th>\n",
       "      <th>test_time</th>\n",
       "    </tr>\n",
       "  </thead>\n",
       "  <tbody>\n",
       "    <tr>\n",
       "      <th>knns.KNNBaseline</th>\n",
       "      <td>0.630826</td>\n",
       "      <td>0.830077</td>\n",
       "      <td>0.274264</td>\n",
       "      <td>2.409560</td>\n",
       "    </tr>\n",
       "    <tr>\n",
       "      <th>knns.KNNWithZScore</th>\n",
       "      <td>0.634585</td>\n",
       "      <td>0.835972</td>\n",
       "      <td>0.287830</td>\n",
       "      <td>1.646991</td>\n",
       "    </tr>\n",
       "    <tr>\n",
       "      <th>knns.KNNWithMeans</th>\n",
       "      <td>0.639064</td>\n",
       "      <td>0.839044</td>\n",
       "      <td>0.266684</td>\n",
       "      <td>1.433566</td>\n",
       "    </tr>\n",
       "    <tr>\n",
       "      <th>knns.KNNBasic</th>\n",
       "      <td>0.668206</td>\n",
       "      <td>0.881025</td>\n",
       "      <td>0.191487</td>\n",
       "      <td>1.270799</td>\n",
       "    </tr>\n",
       "  </tbody>\n",
       "</table>\n",
       "</div>"
      ],
      "text/plain": [
       "                          MAE      RMSE  fit_time  test_time\n",
       "knns.KNNBaseline     0.630826  0.830077  0.274264   2.409560\n",
       "knns.KNNWithZScore   0.634585  0.835972  0.287830   1.646991\n",
       "knns.KNNWithMeans    0.639064  0.839044  0.266684   1.433566\n",
       "knns.KNNBasic        0.668206  0.881025  0.191487   1.270799"
      ]
     },
     "execution_count": 33,
     "metadata": {},
     "output_type": "execute_result"
    }
   ],
   "source": [
    "# DataFrame con resultados de rendimiento\n",
    "performance_df = pd.DataFrame.from_dict(results).T.sort_values(by='RMSE')\n",
    "performance_df"
   ]
  },
  {
   "cell_type": "code",
   "execution_count": 22,
   "metadata": {},
   "outputs": [],
   "source": [
    "# Selección del mejor modelo\n",
    "selected_model = KNNBasic"
   ]
  },
  {
   "cell_type": "markdown",
   "metadata": {},
   "source": [
    "### Afinamiento de hiperparámetros"
   ]
  },
  {
   "cell_type": "code",
   "execution_count": 25,
   "metadata": {},
   "outputs": [],
   "source": [
    "param_grid = {\n",
    "    'sim_options': {\n",
    "        'name': ['msd', 'cosine'],\n",
    "        'user_based': [False, True],\n",
    "        'min_support': [1, 5, 10]\n",
    "    },\n",
    "    'k': [5, 10, 15],  # Número de vecinos\n",
    "}\n"
   ]
  },
  {
   "cell_type": "markdown",
   "metadata": {},
   "source": [
    "### Búsqueda de hiperparámetros"
   ]
  },
  {
   "cell_type": "code",
   "execution_count": 27,
   "metadata": {},
   "outputs": [],
   "source": [
    "# Búsqueda de hiperparámetros\n",
    "gridsearch = GridSearchCV(selected_model, param_grid, measures=['rmse'], cv=2, n_jobs=-1)\n",
    "gridsearch.fit(data)"
   ]
  },
  {
   "cell_type": "code",
   "execution_count": 37,
   "metadata": {},
   "outputs": [],
   "source": [
    "# Mejor modelo y parámetros\n",
    "best_params = gridsearch.best_params[\"rmse\"]\n",
    "best_score = gridsearch.best_score[\"rmse\"]\n",
    "gs_model = gridsearch.best_estimator['rmse']"
   ]
  },
  {
   "cell_type": "code",
   "execution_count": 29,
   "metadata": {},
   "outputs": [
    {
     "name": "stdout",
     "output_type": "stream",
     "text": [
      "Computing the msd similarity matrix...\n",
      "Done computing similarity matrix.\n"
     ]
    }
   ],
   "source": [
    "# Entrenamiento con todos los datos y predicciones\n",
    "trainset = data.build_full_trainset()\n",
    "model1 = gs_model.fit(trainset)\n",
    "predset = trainset.build_anti_testset()\n",
    "predictions = gs_model.test(predset)"
   ]
  },
  {
   "cell_type": "code",
   "execution_count": 30,
   "metadata": {},
   "outputs": [
    {
     "data": {
      "text/html": [
       "<div>\n",
       "<style scoped>\n",
       "    .dataframe tbody tr th:only-of-type {\n",
       "        vertical-align: middle;\n",
       "    }\n",
       "\n",
       "    .dataframe tbody tr th {\n",
       "        vertical-align: top;\n",
       "    }\n",
       "\n",
       "    .dataframe thead th {\n",
       "        text-align: right;\n",
       "    }\n",
       "</style>\n",
       "<table border=\"1\" class=\"dataframe\">\n",
       "  <thead>\n",
       "    <tr style=\"text-align: right;\">\n",
       "      <th></th>\n",
       "      <th>uid</th>\n",
       "      <th>iid</th>\n",
       "      <th>r_ui</th>\n",
       "      <th>est</th>\n",
       "      <th>details</th>\n",
       "    </tr>\n",
       "  </thead>\n",
       "  <tbody>\n",
       "    <tr>\n",
       "      <th>0</th>\n",
       "      <td>1</td>\n",
       "      <td>21</td>\n",
       "      <td>3.717143</td>\n",
       "      <td>4.045181</td>\n",
       "      <td>{'actual_k': 15, 'was_impossible': False}</td>\n",
       "    </tr>\n",
       "    <tr>\n",
       "      <th>1</th>\n",
       "      <td>1</td>\n",
       "      <td>32</td>\n",
       "      <td>3.717143</td>\n",
       "      <td>4.679153</td>\n",
       "      <td>{'actual_k': 15, 'was_impossible': False}</td>\n",
       "    </tr>\n",
       "    <tr>\n",
       "      <th>2</th>\n",
       "      <td>1</td>\n",
       "      <td>357</td>\n",
       "      <td>3.717143</td>\n",
       "      <td>4.409305</td>\n",
       "      <td>{'actual_k': 15, 'was_impossible': False}</td>\n",
       "    </tr>\n",
       "    <tr>\n",
       "      <th>3</th>\n",
       "      <td>1</td>\n",
       "      <td>368</td>\n",
       "      <td>3.717143</td>\n",
       "      <td>4.473641</td>\n",
       "      <td>{'actual_k': 15, 'was_impossible': False}</td>\n",
       "    </tr>\n",
       "    <tr>\n",
       "      <th>4</th>\n",
       "      <td>1</td>\n",
       "      <td>509</td>\n",
       "      <td>3.717143</td>\n",
       "      <td>4.443098</td>\n",
       "      <td>{'actual_k': 15, 'was_impossible': False}</td>\n",
       "    </tr>\n",
       "  </tbody>\n",
       "</table>\n",
       "</div>"
      ],
      "text/plain": [
       "   uid  iid      r_ui       est                                    details\n",
       "0    1   21  3.717143  4.045181  {'actual_k': 15, 'was_impossible': False}\n",
       "1    1   32  3.717143  4.679153  {'actual_k': 15, 'was_impossible': False}\n",
       "2    1  357  3.717143  4.409305  {'actual_k': 15, 'was_impossible': False}\n",
       "3    1  368  3.717143  4.473641  {'actual_k': 15, 'was_impossible': False}\n",
       "4    1  509  3.717143  4.443098  {'actual_k': 15, 'was_impossible': False}"
      ]
     },
     "execution_count": 30,
     "metadata": {},
     "output_type": "execute_result"
    }
   ],
   "source": [
    "# DataFrame de predicciones\n",
    "predictions_df = pd.DataFrame(predictions)\n",
    "predictions_df.head()"
   ]
  },
  {
   "cell_type": "code",
   "execution_count": 34,
   "metadata": {},
   "outputs": [],
   "source": [
    "\n",
    "# Función para recomendar películas\n",
    "def recomendaciones(user_id, n_recomend=11):\n",
    "    predictions_userID = predictions_df[predictions_df['uid'] == user_id] \\\n",
    "                         .sort_values(by=\"est\", ascending=False).head(n_recomend)\n",
    "    recomendados = predictions_userID[['iid', 'est']]\n",
    "    recomendados.to_sql('reco', conn, if_exists=\"replace\")\n",
    "\n",
    "    # Obtener títulos de películas recomendadas\n",
    "    mov = pd.read_sql('''SELECT b.title, a.est AS estimated_rating \n",
    "                         FROM reco a \n",
    "                         LEFT JOIN movie_final b ON a.iid = b.movieId''', conn)\n",
    "    mov['estimated_rating'] = mov['estimated_rating'].round(2)\n",
    "    \n",
    "    return mov"
   ]
  },
  {
   "cell_type": "code",
   "execution_count": 35,
   "metadata": {},
   "outputs": [
    {
     "data": {
      "text/html": [
       "<div>\n",
       "<style scoped>\n",
       "    .dataframe tbody tr th:only-of-type {\n",
       "        vertical-align: middle;\n",
       "    }\n",
       "\n",
       "    .dataframe tbody tr th {\n",
       "        vertical-align: top;\n",
       "    }\n",
       "\n",
       "    .dataframe thead th {\n",
       "        text-align: right;\n",
       "    }\n",
       "</style>\n",
       "<table border=\"1\" class=\"dataframe\">\n",
       "  <thead>\n",
       "    <tr style=\"text-align: right;\">\n",
       "      <th></th>\n",
       "      <th>title</th>\n",
       "      <th>estimated_rating</th>\n",
       "    </tr>\n",
       "  </thead>\n",
       "  <tbody>\n",
       "    <tr>\n",
       "      <th>0</th>\n",
       "      <td>Heat (1995)</td>\n",
       "      <td>4.25</td>\n",
       "    </tr>\n",
       "    <tr>\n",
       "      <th>1</th>\n",
       "      <td>Sense and Sensibility (1995)</td>\n",
       "      <td>4.15</td>\n",
       "    </tr>\n",
       "    <tr>\n",
       "      <th>2</th>\n",
       "      <td>Raising Arizona (1987)</td>\n",
       "      <td>4.03</td>\n",
       "    </tr>\n",
       "    <tr>\n",
       "      <th>3</th>\n",
       "      <td>Life Is Beautiful (La Vita è bella) (1997)</td>\n",
       "      <td>4.02</td>\n",
       "    </tr>\n",
       "    <tr>\n",
       "      <th>4</th>\n",
       "      <td>American Psycho (2000)</td>\n",
       "      <td>4.00</td>\n",
       "    </tr>\n",
       "    <tr>\n",
       "      <th>5</th>\n",
       "      <td>Shakespeare in Love (1998)</td>\n",
       "      <td>3.97</td>\n",
       "    </tr>\n",
       "    <tr>\n",
       "      <th>6</th>\n",
       "      <td>In the Line of Fire (1993)</td>\n",
       "      <td>3.96</td>\n",
       "    </tr>\n",
       "    <tr>\n",
       "      <th>7</th>\n",
       "      <td>Cool Hand Luke (1967)</td>\n",
       "      <td>3.95</td>\n",
       "    </tr>\n",
       "    <tr>\n",
       "      <th>8</th>\n",
       "      <td>Dark Knight, The (2008)</td>\n",
       "      <td>3.91</td>\n",
       "    </tr>\n",
       "    <tr>\n",
       "      <th>9</th>\n",
       "      <td>Little Miss Sunshine (2006)</td>\n",
       "      <td>3.90</td>\n",
       "    </tr>\n",
       "  </tbody>\n",
       "</table>\n",
       "</div>"
      ],
      "text/plain": [
       "                                        title  estimated_rating\n",
       "0                                 Heat (1995)              4.25\n",
       "1                Sense and Sensibility (1995)              4.15\n",
       "2                      Raising Arizona (1987)              4.03\n",
       "3  Life Is Beautiful (La Vita è bella) (1997)              4.02\n",
       "4                      American Psycho (2000)              4.00\n",
       "5                  Shakespeare in Love (1998)              3.97\n",
       "6                  In the Line of Fire (1993)              3.96\n",
       "7                       Cool Hand Luke (1967)              3.95\n",
       "8                     Dark Knight, The (2008)              3.91\n",
       "9                 Little Miss Sunshine (2006)              3.90"
      ]
     },
     "execution_count": 35,
     "metadata": {},
     "output_type": "execute_result"
    }
   ],
   "source": [
    "# ID del usuario para las recomendaciones\n",
    "user_id = 608\n",
    "n_recomend = 10\n",
    "\n",
    "peliculas = recomendaciones(user_id, n_recomend)\n",
    "peliculas"
   ]
  }
 ],
 "metadata": {
  "kernelspec": {
   "display_name": "entorno_py39",
   "language": "python",
   "name": "python3"
  },
  "language_info": {
   "codemirror_mode": {
    "name": "ipython",
    "version": 3
   },
   "file_extension": ".py",
   "mimetype": "text/x-python",
   "name": "python",
   "nbconvert_exporter": "python",
   "pygments_lexer": "ipython3",
   "version": "3.9.20"
  }
 },
 "nbformat": 4,
 "nbformat_minor": 2
}

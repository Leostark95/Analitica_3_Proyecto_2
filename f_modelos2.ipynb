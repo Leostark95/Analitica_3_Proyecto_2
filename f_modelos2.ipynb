{
 "cells": [
  {
   "cell_type": "markdown",
   "metadata": {},
   "source": [
    "## Librerías"
   ]
  },
  {
   "cell_type": "code",
   "execution_count": 1,
   "metadata": {},
   "outputs": [],
   "source": [
    "# Librerías de ciencia de datos \n",
    "import numpy as np\n",
    "import pandas as pd\n",
    "import sqlite3 as sql\n",
    "\n",
    "# para análisis interactivo\n",
    "from ipywidgets import interact, Output, widgets\n",
    "\n",
    "# Librerías para preprocesamiento \n",
    "from sklearn.preprocessing import MinMaxScaler\n",
    "from sklearn import neighbors \n",
    "import joblib\n",
    "\n",
    "# Paquete para sistemas de recomendación surprise \n",
    "from surprise.model_selection import train_test_split\n",
    "from surprise.model_selection import cross_validate, GridSearchCV\n",
    "from surprise import KNNBasic, KNNWithMeans, KNNWithZScore, KNNBaseline\n",
    "from surprise import Reader, Dataset"
   ]
  },
  {
   "cell_type": "markdown",
   "metadata": {},
   "source": [
    "## Carga de datos"
   ]
  },
  {
   "cell_type": "code",
   "execution_count": 2,
   "metadata": {},
   "outputs": [],
   "source": [
    "#### Conectar #######\n",
    "conn=sql.connect('data/db_movies')\n",
    "cur=conn.cursor()"
   ]
  },
  {
   "cell_type": "code",
   "execution_count": 3,
   "metadata": {},
   "outputs": [
    {
     "data": {
      "text/plain": [
       "[('ratings',),\n",
       " ('movies',),\n",
       " ('usuarios_sel',),\n",
       " ('movies_sel',),\n",
       " ('ratings_final',),\n",
       " ('movie_final',),\n",
       " ('full_ratings',),\n",
       " ('full_ratings_dum',),\n",
       " ('reco',)]"
      ]
     },
     "execution_count": 3,
     "metadata": {},
     "output_type": "execute_result"
    }
   ],
   "source": [
    "#ver tablas\n",
    "cur.execute(\"SELECT name FROM sqlite_master WHERE type='table';\")\n",
    "cur.fetchall()"
   ]
  },
  {
   "cell_type": "code",
   "execution_count": 4,
   "metadata": {},
   "outputs": [],
   "source": [
    "# Vamos a trabajar con el dataframe escalado y con dummies df_dum \n",
    "df_dum = pd.read_sql(\"SELECT * FROM full_ratings_dum\", conn)\n",
    "movies = pd.read_sql(\"SELECT * FROM movie_final\", conn)\n",
    "\n",
    "# Se selecciona un usuario para realizar las recomendaciones \n",
    "usuarios = pd.read_sql('SELECT distinct (userId) as user_id from ratings_final', conn)\n",
    "\n",
    "# Seleccionamos un usuario para realizar el sistema de recomendación\n",
    "user_id = 605\n",
    "movies\n",
    "ratings = pd.read_sql('SELECT * FROM ratings_final', conn)"
   ]
  },
  {
   "cell_type": "markdown",
   "metadata": {},
   "source": [
    "## 3. Sistema de recomendación basado en contenido KNN Con base en todo lo visto por el usuario"
   ]
  },
  {
   "cell_type": "markdown",
   "metadata": {},
   "source": [
    "### Top 10 de las películas más similares a las vistas por el usuario y con una que le haya dado una calificación mayor a 3.5."
   ]
  },
  {
   "cell_type": "code",
   "execution_count": 8,
   "metadata": {},
   "outputs": [
    {
     "data": {
      "application/vnd.jupyter.widget-view+json": {
       "model_id": "6ca80047539c4fb49eb066babb832204",
       "version_major": 2,
       "version_minor": 0
      },
      "text/plain": [
       "interactive(children=(IntSlider(value=605, description='User ID:', max=1000, min=1), Output()), _dom_classes=(…"
      ]
     },
     "metadata": {},
     "output_type": "display_data"
    },
    {
     "data": {
      "text/plain": [
       "<function __main__.interfaz_recomendaciones(user_id)>"
      ]
     },
     "execution_count": 8,
     "metadata": {},
     "output_type": "execute_result"
    }
   ],
   "source": [
    "\n",
    "# Función para recomendar películas\n",
    "def recomendar(user_id, k=5):\n",
    "    # Obtener los ratings del usuario seleccionado\n",
    "    ratings = pd.read_sql('SELECT * FROM ratings_final WHERE userId=:user', conn, params={'user': user_id})\n",
    "    \n",
    "    # Filtrar solo películas con rating mayor a 4\n",
    "    ratings = ratings[ratings['rating'] > 3.5]\n",
    "    \n",
    "    # Si no hay ratings, devolver mensaje\n",
    "    if ratings.empty:\n",
    "        return f\"El usuario {user_id} no tiene películas calificadas con un rating mayor a 3.5.\"\n",
    "\n",
    "    # Convertir ratings del usuario a array\n",
    "    ratings_array = ratings['movieId'].to_numpy()\n",
    "    \n",
    "    # Agregar la columna de movieId y título al dataframe df_dum para filtrar y mostrar nombres\n",
    "    df_dum[['movieId', 'title']] = movies[['movieId', 'title']]\n",
    "    \n",
    "    # Filtrar películas calificadas por el usuario\n",
    "    movies_r = df_dum[df_dum['movieId'].isin(ratings_array)]\n",
    "    \n",
    "    # Eliminar columnas movieId y title\n",
    "    movies_r = movies_r.drop(columns=['movieId', 'title'])\n",
    "    movies_r[\"indice\"] = 1  # Añadir índice para calcular el centroide\n",
    "    \n",
    "    # Calcular el centroide o perfil del usuario\n",
    "    centroide = movies_r.groupby(\"indice\").mean()\n",
    "    \n",
    "    # Filtrar películas no vistas por el usuario\n",
    "    movies_ns = df_dum[~df_dum['movieId'].isin(ratings_array)]\n",
    "    \n",
    "    # Eliminar columnas movieId y title\n",
    "    movies_ns = movies_ns.drop(columns=['movieId', 'title'])\n",
    "    \n",
    "    # Entrenar el modelo de K-Vecinos\n",
    "    model = neighbors.NearestNeighbors(n_neighbors=k, metric='cosine')\n",
    "    model.fit(movies_ns)\n",
    "    \n",
    "    # Obtener las películas más cercanas (recomendadas)\n",
    "    dist, idlist = model.kneighbors(centroide)\n",
    "    \n",
    "    # Comprobar si hay suficientes vecinos cercanos\n",
    "    if len(idlist[0]) < k:\n",
    "        return f\"No hay suficientes vecinos cercanos para el usuario {user_id}.\"\n",
    "\n",
    "    # Obtener los títulos de las películas recomendadas\n",
    "    ids = idlist[0]  # Desanidar el array de índices\n",
    "    recomend_m = movies.loc[ids][['title']]\n",
    "    \n",
    "    return recomend_m\n",
    "\n",
    "# Función para la interfaz interactiva\n",
    "def interfaz_recomendaciones(user_id):\n",
    "    recomendaciones_resultado = recomendar(user_id)\n",
    "    print(f\"Recomendaciones para el usuario {user_id}:\")\n",
    "    print(recomendaciones_resultado)\n",
    "\n",
    "# Crear un widget interactivo para que el usuario seleccione el user_id\n",
    "interact(interfaz_recomendaciones,\n",
    "         user_id=widgets.IntSlider(min=1, max=1000, step=1, value=605, description='User ID:'))\n"
   ]
  },
  {
   "cell_type": "markdown",
   "metadata": {},
   "source": [
    "### 3.1. Top 5 de las películas más similares a las vistas por el usuario según el género"
   ]
  },
  {
   "cell_type": "code",
   "execution_count": 6,
   "metadata": {},
   "outputs": [],
   "source": [
    "# Limpiar la columna 'genres': eliminar espacios extra y caracteres no deseados\n",
    "movies['genres'] = movies['genres'].str.strip()\n",
    "\n",
    "# Crear un widget Output para controlar las salidas\n",
    "output = Output()"
   ]
  },
  {
   "cell_type": "code",
   "execution_count": 7,
   "metadata": {},
   "outputs": [
    {
     "data": {
      "application/vnd.jupyter.widget-view+json": {
       "model_id": "b764fd22257347819849ff852b075002",
       "version_major": 2,
       "version_minor": 0
      },
      "text/plain": [
       "interactive(children=(Dropdown(description='genero', options=('Adventure', 'Animation', 'Children', 'Comedy', …"
      ]
     },
     "metadata": {},
     "output_type": "display_data"
    },
    {
     "data": {
      "application/vnd.jupyter.widget-view+json": {
       "model_id": "e7d174cdca7a4637a15c1009a0d16c57",
       "version_major": 2,
       "version_minor": 0
      },
      "text/plain": [
       "Output()"
      ]
     },
     "metadata": {},
     "output_type": "display_data"
    }
   ],
   "source": [
    "\n",
    "\n",
    "# Función para recomendar películas por género seleccionado y mostrar el rating promedio\n",
    "def recomendar_peliculas_por_genero(genero_seleccionado, user_id, conn, top_n=5):\n",
    "    # Se seleccionan los ratings del usuario establecido\n",
    "    ratings_user = pd.read_sql('SELECT * from ratings_final where userId=:user', conn, params={'user': user_id})\n",
    "\n",
    "    # Obtener el array de movieIds vistos por el usuario\n",
    "    ratings_array = ratings_user['movieId'].to_numpy()\n",
    "\n",
    "    # Filtrar películas vistas por el usuario\n",
    "    peliculas_vistas = movies[movies['movieId'].isin(ratings_array)]\n",
    "\n",
    "    # Expandir los géneros de las películas vistas por el usuario\n",
    "    peliculas_vistas.loc[:, 'genres'] = peliculas_vistas['genres'].str.split('|')\n",
    "    \n",
    "    # Descomponer géneros en filas individuales (cada fila será una película-genre)\n",
    "    peliculas_con_generos = peliculas_vistas.explode('genres')\n",
    "\n",
    "    # Filtrar películas no vistas del género seleccionado\n",
    "    peliculas_no_vistas = movies[~movies['movieId'].isin(ratings_array)]\n",
    "    \n",
    "    # Convertir el género seleccionado a string y eliminar espacios extra\n",
    "    genero_seleccionado_str = str(genero_seleccionado).strip()\n",
    "\n",
    "    # Filtrar las películas recomendadas por el género seleccionado\n",
    "    peliculas_recomendadas = peliculas_no_vistas[peliculas_no_vistas['genres'].str.contains(genero_seleccionado_str, regex=False)]\n",
    "\n",
    "    # Calcular el rating promedio para cada película\n",
    "    rating_promedio = ratings.groupby('movieId')['rating'].mean().reset_index()\n",
    "\n",
    "    # Unir la tabla de películas recomendadas con su rating promedio\n",
    "    peliculas_recomendadas = peliculas_recomendadas.merge(rating_promedio, on='movieId', how='left')\n",
    "\n",
    "    # Seleccionar las primeras top_n películas recomendadas y redondear el rating a 2 decimales\n",
    "    peliculas_recomendadas['rating'] = peliculas_recomendadas['rating'].round(2)\n",
    "\n",
    "    # Seleccionar las columnas 'title' y 'rating' para mostrar\n",
    "    top_recomendadas = peliculas_recomendadas[['title', 'rating']].head(top_n)\n",
    "\n",
    "    return top_recomendadas\n",
    "\n",
    "# Obtener todos los géneros únicos de la columna 'genres'\n",
    "todos_los_generos = movies['genres'].str.split('|').explode().unique()\n",
    "\n",
    "# Crear la función interactiva con salida controlada\n",
    "\n",
    "\n",
    "@interact\n",
    "def mostrar_recomendaciones(genero=todos_los_generos):\n",
    "    output.clear_output()  # Limpiar la salida anterior\n",
    "    recomendaciones = recomendar_peliculas_por_genero(genero, user_id, conn)\n",
    "    with output:\n",
    "        print(f\"Recomendaciones para el género '{genero}':\")\n",
    "        print(recomendaciones)\n",
    "\n",
    "# Mostrar el widget de salida\n",
    "display(output)\n"
   ]
  },
  {
   "cell_type": "markdown",
   "metadata": {},
   "source": [
    "## 4. Sistema de recomendación filtro colaborativo"
   ]
  },
  {
   "cell_type": "markdown",
   "metadata": {},
   "source": [
    "## Top 10 de las películas con mayor calificación predicha"
   ]
  },
  {
   "cell_type": "code",
   "execution_count": 10,
   "metadata": {},
   "outputs": [
    {
     "name": "stdout",
     "output_type": "stream",
     "text": [
      "Computing the msd similarity matrix...\n",
      "Done computing similarity matrix.\n"
     ]
    }
   ],
   "source": [
    "#Indicar el id paraa el cual se requiere hacer la recomendación\n",
    "user_id = 608\n",
    "\n",
    "# Obtener datos; se filtran los mayores a 0\n",
    "rat = pd.read_sql('SELECT * FROM ratings_final WHERE rating > 0', conn)\n",
    "\n",
    "# Definir escala\n",
    "reader = Reader(rating_scale=(1, 5))  # Corregí el nombre de la variable 'Reader' por 'reader'\n",
    "\n",
    "# Leer datos con surprise\n",
    "data = Dataset.load_from_df(rat[['userId', 'movieId', 'rating']], reader)\n",
    "\n",
    "# Modelos \n",
    "models = [KNNBasic(), KNNWithMeans(), KNNWithZScore(), KNNBaseline()] \n",
    "results = {}\n",
    "\n",
    "# Probar modelos\n",
    "for model in models:\n",
    "    CV_scores = cross_validate(model, data, measures=[\"MAE\", \"RMSE\"], cv=5, n_jobs=-1)\n",
    "    \n",
    "    result = pd.DataFrame.from_dict(CV_scores).mean(axis=0).\\\n",
    "             rename({'test_mae':'MAE', 'test_rmse': 'RMSE'})\n",
    "    results[str(model).split(\"algorithms.\")[1].split(\"object \")[0]] = result\n",
    "\n",
    "performance_df = pd.DataFrame.from_dict(results).T\n",
    "performance_df.sort_values(by='RMSE')\n",
    "\n",
    "# Se seleccionó el KNNBasic porque tiene mejores métricas en \"MAE Y RMSE\"\n",
    "\n",
    "# Definir la grilla de parámetros para la búsqueda de hiperparámetros\n",
    "param_grid = {\n",
    "    'sim_options': {\n",
    "        'name': ['msd', 'cosine'],\n",
    "        'min_support': [5],\n",
    "        'user_based': [False, True]\n",
    "    }\n",
    "}\n",
    "\n",
    "gridsearchKNNBasic = GridSearchCV(KNNBasic, param_grid, measures=['rmse'], cv=2, n_jobs=-1)\n",
    "\n",
    "gridsearchKNNBasic.fit(data)\n",
    "\n",
    "gridsearchKNNBasic.best_params[\"rmse\"]\n",
    "gridsearchKNNBasic.best_score[\"rmse\"]\n",
    "gs_model = gridsearchKNNBasic.best_estimator['rmse']\n",
    "\n",
    "# Entrenar con todos los datos, y realizar predicciones con el modelo afinado\n",
    "trainset = data.build_full_trainset()\n",
    "model1 = gs_model.fit(trainset)\n",
    "predset = trainset.build_anti_testset()\n",
    "len(predset)\n",
    "predictions = gs_model.test(predset)\n",
    "\n",
    "# Crear base; películas no vistas por usuario + calificación predicha \n",
    "predictions_df = pd.DataFrame(predictions) \n",
    "predictions_df.shape\n",
    "predictions_df.head()\n",
    "predictions_df['r_ui'].unique()\n",
    "predictions_df.sort_values(by='est', ascending=False)\n",
    "\n",
    "# Función para recomendar 11 películas a un usuario específico\n",
    "def recomendaciones(user_id, n_recomend=11):\n",
    "    predictions_userID = predictions_df[predictions_df['uid'] == user_id].\\\n",
    "                    sort_values(by=\"est\", ascending=False).head(n_recomend)\n",
    "\n",
    "    recomendados = predictions_userID[['iid', 'est']]  # Mantener 'iid' y 'est'\n",
    "    recomendados.to_sql('reco', conn, if_exists=\"replace\")\n",
    "\n",
    "    # Cambié 'movies_1' por 'movies_sel' según tus tablas\n",
    "    # Incluimos también la calificación estimada en la consulta\n",
    "    mov = pd.read_sql('''SELECT b.title, a.est AS estimated_rating \n",
    "                         FROM reco a \n",
    "                         LEFT JOIN movie_final b ON a.iid = b.movieId''', conn)\n",
    "    mov['estimated_rating'] = mov['estimated_rating'].round(2)\n",
    "    \n",
    "    return mov\n",
    "\n",
    "# Obtener y mostrar las 11 películas recomendadas al usuario 50\n",
    "\n"
   ]
  },
  {
   "cell_type": "code",
   "execution_count": 11,
   "metadata": {},
   "outputs": [
    {
     "data": {
      "text/html": [
       "<div>\n",
       "<style scoped>\n",
       "    .dataframe tbody tr th:only-of-type {\n",
       "        vertical-align: middle;\n",
       "    }\n",
       "\n",
       "    .dataframe tbody tr th {\n",
       "        vertical-align: top;\n",
       "    }\n",
       "\n",
       "    .dataframe thead th {\n",
       "        text-align: right;\n",
       "    }\n",
       "</style>\n",
       "<table border=\"1\" class=\"dataframe\">\n",
       "  <thead>\n",
       "    <tr style=\"text-align: right;\">\n",
       "      <th></th>\n",
       "      <th>title</th>\n",
       "      <th>estimated_rating</th>\n",
       "    </tr>\n",
       "  </thead>\n",
       "  <tbody>\n",
       "    <tr>\n",
       "      <th>0</th>\n",
       "      <td>Heat (1995)</td>\n",
       "      <td>4.05</td>\n",
       "    </tr>\n",
       "    <tr>\n",
       "      <th>1</th>\n",
       "      <td>Sense and Sensibility (1995)</td>\n",
       "      <td>3.94</td>\n",
       "    </tr>\n",
       "    <tr>\n",
       "      <th>2</th>\n",
       "      <td>Goldfinger (1964)</td>\n",
       "      <td>3.92</td>\n",
       "    </tr>\n",
       "    <tr>\n",
       "      <th>3</th>\n",
       "      <td>Inglourious Basterds (2009)</td>\n",
       "      <td>3.90</td>\n",
       "    </tr>\n",
       "    <tr>\n",
       "      <th>4</th>\n",
       "      <td>Cool Hand Luke (1967)</td>\n",
       "      <td>3.90</td>\n",
       "    </tr>\n",
       "    <tr>\n",
       "      <th>5</th>\n",
       "      <td>Departed, The (2006)</td>\n",
       "      <td>3.90</td>\n",
       "    </tr>\n",
       "    <tr>\n",
       "      <th>6</th>\n",
       "      <td>Good, the Bad and the Ugly, The (Buono, il bru...</td>\n",
       "      <td>3.89</td>\n",
       "    </tr>\n",
       "    <tr>\n",
       "      <th>7</th>\n",
       "      <td>Inception (2010)</td>\n",
       "      <td>3.89</td>\n",
       "    </tr>\n",
       "    <tr>\n",
       "      <th>8</th>\n",
       "      <td>Brazil (1985)</td>\n",
       "      <td>3.88</td>\n",
       "    </tr>\n",
       "    <tr>\n",
       "      <th>9</th>\n",
       "      <td>Amelie (Fabuleux destin d'Amélie Poulain, Le) ...</td>\n",
       "      <td>3.87</td>\n",
       "    </tr>\n",
       "  </tbody>\n",
       "</table>\n",
       "</div>"
      ],
      "text/plain": [
       "                                               title  estimated_rating\n",
       "0                                        Heat (1995)              4.05\n",
       "1                       Sense and Sensibility (1995)              3.94\n",
       "2                                  Goldfinger (1964)              3.92\n",
       "3                        Inglourious Basterds (2009)              3.90\n",
       "4                              Cool Hand Luke (1967)              3.90\n",
       "5                               Departed, The (2006)              3.90\n",
       "6  Good, the Bad and the Ugly, The (Buono, il bru...              3.89\n",
       "7                                   Inception (2010)              3.89\n",
       "8                                      Brazil (1985)              3.88\n",
       "9  Amelie (Fabuleux destin d'Amélie Poulain, Le) ...              3.87"
      ]
     },
     "execution_count": 11,
     "metadata": {},
     "output_type": "execute_result"
    }
   ],
   "source": [
    "n_recomend = 10\n",
    "peliculas = recomendaciones(user_id, n_recomend)\n",
    "peliculas"
   ]
  }
 ],
 "metadata": {
  "kernelspec": {
   "display_name": "entorno_py39",
   "language": "python",
   "name": "python3"
  },
  "language_info": {
   "codemirror_mode": {
    "name": "ipython",
    "version": 3
   },
   "file_extension": ".py",
   "mimetype": "text/x-python",
   "name": "python",
   "nbconvert_exporter": "python",
   "pygments_lexer": "ipython3",
   "version": "3.9.20"
  }
 },
 "nbformat": 4,
 "nbformat_minor": 2
}
